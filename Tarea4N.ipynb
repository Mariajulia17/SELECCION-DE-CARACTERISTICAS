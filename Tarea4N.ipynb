{
 "cells": [
  {
   "cell_type": "markdown",
   "id": "baffbd18-bf16-4d71-b0d7-2678bc7b52a2",
   "metadata": {},
   "source": [
    "# Selección de caracteristicas"
   ]
  },
  {
   "cell_type": "markdown",
   "id": "1bc592d0-1c55-45fd-89d9-2f428973c22e",
   "metadata": {},
   "source": [
    "1. Importamos los datos así como las dimensiones del data frame"
   ]
  },
  {
   "cell_type": "code",
   "execution_count": 23,
   "id": "5d7db154-c755-470d-bf28-8e10ddd92ae5",
   "metadata": {},
   "outputs": [
    {
     "name": "stdout",
     "output_type": "stream",
     "text": [
      "Las dimensiones del data frame son: (1599, 12)\n",
      "   acidezFija  acidezVolatil  acidoCitrico  azucarResidual  cloruros  \\\n",
      "0         7.4           0.70          0.00             1.9     0.076   \n",
      "1         7.8           0.88          0.00             2.6     0.098   \n",
      "2         7.8           0.76          0.04             2.3     0.092   \n",
      "3        11.2           0.28          0.56             1.9     0.075   \n",
      "4         7.4           0.70          0.00             1.9     0.076   \n",
      "\n",
      "   dioxidoAzufreLibre  dioxidoAzufreTotal  densidad    pH  sulfatos  alcohol  \\\n",
      "0                11.0                34.0    0.9978  3.51      0.56      9.4   \n",
      "1                25.0                67.0    0.9968  3.20      0.68      9.8   \n",
      "2                15.0                54.0    0.9970  3.26      0.65      9.8   \n",
      "3                17.0                60.0    0.9980  3.16      0.58      9.8   \n",
      "4                11.0                34.0    0.9978  3.51      0.56      9.4   \n",
      "\n",
      "   calidad  \n",
      "0        5  \n",
      "1        5  \n",
      "2        5  \n",
      "3        6  \n",
      "4        5  \n"
     ]
    }
   ],
   "source": [
    "# Importamos la librería pandas\n",
    "import pandas as pd\n",
    "# Leemos el archivo\n",
    "data = pd.read_csv(\"VinoTinto.csv\")\n",
    "# Se imprime en consola las dimensiones de los datos\n",
    "print(\"Las dimensiones del data frame son:\", data.shape)\n",
    "#Se imprimen las primeras 5 filas\n",
    "print(data.head(5))"
   ]
  },
  {
   "cell_type": "markdown",
   "id": "904a9361-b94e-4347-8fe0-8f6a27cef300",
   "metadata": {},
   "source": [
    " 2. Entrenaremos el modelo por medio de separar el data frame en dos categorías: datos de entrenamiento y datos de prueba. "
   ]
  },
  {
   "cell_type": "code",
   "execution_count": 25,
   "id": "3e925b42-0fbb-4f09-b728-17cdae1e1ed5",
   "metadata": {},
   "outputs": [
    {
     "name": "stdout",
     "output_type": "stream",
     "text": [
      "Datos de entrenamiento: (1279, 11) (1279,)\n",
      "Datos de prueba: (320, 11) (320,)\n",
      "La suma de las observaciones es: 1599\n",
      "\n",
      "Como vemos la suma de ambas observaciones coincide con el número de observaciones original que medimos en el punto 1\n"
     ]
    }
   ],
   "source": [
    "# Generamos los datos de entrenamiento\n",
    "train = data.sample(frac=0.8)\n",
    "\n",
    "# Generamos datos de validación\n",
    "test = data.drop(train.index)\n",
    "\n",
    "# Separamos X (predictores) así como separar la variable de interés\n",
    "X_train = train.drop('calidad', axis=1)\n",
    "y_train = train['calidad']\n",
    "\n",
    "X_test = test.drop('calidad', axis=1)\n",
    "y_test = test['calidad']\n",
    "\n",
    "# Imprimimos las dimensiones de datos de entrenamiento\n",
    "print(\"Datos de entrenamiento:\", X_train.shape, y_train.shape)\n",
    "\n",
    "# Imprimimos las dimensiones de datos de prueba\n",
    "print(\"Datos de prueba:\", X_test.shape, y_test.shape)\n",
    "\n",
    "# Suma de las observaciones\n",
    "suma = X_train.shape[0] + X_test.shape[0]\n",
    "print(\"La suma de las observaciones es:\", suma)\n",
    "print(\"\\nComo vemos la suma de ambas observaciones coincide con el número de observaciones original que medimos en el punto 1\")"
   ]
  },
  {
   "cell_type": "markdown",
   "id": "a3ae6c81-3ade-48a3-b93d-a4bb4d05ead0",
   "metadata": {},
   "source": [
    "3. Utilizamos la metodología de selección hacia adelante para imprimir los nombres de las características seleccionadas por medio de la función SequencialFeatureSector."
   ]
  },
  {
   "cell_type": "code",
   "execution_count": 34,
   "id": "362d21ac-529e-449e-a55d-93f3d1ec0df6",
   "metadata": {},
   "outputs": [
    {
     "name": "stdout",
     "output_type": "stream",
     "text": [
      "Características seleccionadas con método foward: ['acidezFija', 'acidezVolatil', 'cloruros', 'dioxidoAzufreLibre', 'dioxidoAzufreTotal', 'pH', 'sulfatos', 'alcohol']\n"
     ]
    }
   ],
   "source": [
    "# Importamos la función SequentialFeatureSelector\n",
    "from sklearn.linear_model import LinearRegression\n",
    "from mlxtend.feature_selection import SequentialFeatureSelector as SFS\n",
    "\n",
    "linearR = LinearRegression()\n",
    "# Selección de características hacia delante\n",
    "Sca = SFS(linearR, k_features=(2, 8), forward=True, floating=False, scoring='r2', cv=10,n_jobs=-1)\n",
    "\n",
    "#Ajuste e impresión de características de interes\n",
    "Sca = Sca.fit(X_train, y_train)\n",
    "Carac_selec = list(Sca.k_feature_names_)\n",
    "print(\"Características seleccionadas con método foward:\", Carac_selec)"
   ]
  },
  {
   "cell_type": "markdown",
   "id": "db2978ef-8f3f-4ddf-9ac3-d741f4be5a5b",
   "metadata": {},
   "source": [
    "4. Entrenamos el modelo con las variables seleccionadas para medir la capacididad de predecir del modelo calculando su R^2 con la función predict"
   ]
  },
  {
   "cell_type": "code",
   "execution_count": 35,
   "id": "8590ce08-56e3-48c2-87e1-b477832c5bf3",
   "metadata": {},
   "outputs": [
    {
     "name": "stdout",
     "output_type": "stream",
     "text": [
      "R^2 del modelo con método de eliminación hacía adelante: 0.31522312111285655\n"
     ]
    }
   ],
   "source": [
    "from sklearn.metrics import r2_score\n",
    "\n",
    "X_train_seleccionadas = X_train[selected_features]\n",
    "X_test_seleccionadas = X_test[selected_features]\n",
    "\n",
    "#Ajuste al modelo de regresión lineal\n",
    "lr.fit(X_train_seleccionadas, y_train)\n",
    "y_pred = lr.predict(X_test_seleccionadas)\n",
    "\n",
    "#Calculo de R^2\n",
    "r2 = r2_score(y_test, y_pred)\n",
    "print(\"R^2 del modelo con método de eliminación hacía adelante:\", r2)"
   ]
  },
  {
   "cell_type": "markdown",
   "id": "ac5d14ce-bec3-4f2e-b0fb-9528bc46d573",
   "metadata": {},
   "source": [
    "5. Implementamos la metodología de selección hacia atras partiendo de la selección hacía adelante para imrpimir las variables de interés"
   ]
  },
  {
   "cell_type": "code",
   "execution_count": 31,
   "id": "20ae1835-cead-491e-8c22-85e92ec6b651",
   "metadata": {},
   "outputs": [
    {
     "name": "stdout",
     "output_type": "stream",
     "text": [
      "Características seleccionadas de atras: ['acidezVolatil', 'dioxidoAzufreTotal', 'pH', 'sulfatos', 'alcohol']\n"
     ]
    }
   ],
   "source": [
    "lr = LinearRegression()\n",
    "\n",
    "#Selección de características hacia atras\n",
    "Sha = SFS(lr, k_features=(2, 5), forward=False, floating=False, scoring='r2', cv=10,n_jobs=-1)\n",
    "\n",
    "#Ajuste e impresión de características de interes\n",
    "Sha = Sha.fit(X_train[selected_features], y_train)\n",
    "selected_features_atras = list(sbs.k_feature_names_)\n",
    "print(\"Características seleccionadas de atras:\", selected_features_atras)"
   ]
  },
  {
   "cell_type": "markdown",
   "id": "52444ef1-32d1-4da3-bf26-a13a86745357",
   "metadata": {},
   "source": [
    "6.R^2 entrenando el modelo con características seleccionadas previamente con el método de selección de características hacía atrás"
   ]
  },
  {
   "cell_type": "code",
   "execution_count": 36,
   "id": "b288ec43-0146-44d8-a55a-3f91b319ceb0",
   "metadata": {},
   "outputs": [
    {
     "name": "stdout",
     "output_type": "stream",
     "text": [
      "R^2 del modelo usanado el método hacía atrás: 0.30061663294013485\n"
     ]
    }
   ],
   "source": [
    "X_train_seleccionadas_atras = X_train[selected_features_atras]\n",
    "X_test_seleccionadas_atras = X_test[selected_features_atras]\n",
    "\n",
    "#Ajustamos al modelo de regresión líneal previamente hecho\n",
    "lr.fit(X_train_seleccionadas_atras, y_train)\n",
    "y_pred_atras = lr.predict(X_test_seleccionadas_atras)\n",
    "\n",
    "#Calculamos su R^2\n",
    "r2_atras = r2_score(y_test, y_pred_atras)\n",
    "print(\"R^2 del modelo usanado el método hacía atrás:\", r2_atras)"
   ]
  },
  {
   "cell_type": "markdown",
   "id": "7b3141b6-db3d-4357-97c8-847d4e586573",
   "metadata": {},
   "source": [
    "Al hacer los calculos necesarios para saber las R^2 de nuestro modelo por ambos métodos podemos concluir que el mejor método de selección de características es el método de selección hacía adelante ya que tiene un valor mayor al del otro método, es decir, explica mejor nuestro modelo y tiene mejores sus variables significativas."
   ]
  }
 ],
 "metadata": {
  "kernelspec": {
   "display_name": "Python [conda env:base] *",
   "language": "python",
   "name": "conda-base-py"
  },
  "language_info": {
   "codemirror_mode": {
    "name": "ipython",
    "version": 3
   },
   "file_extension": ".py",
   "mimetype": "text/x-python",
   "name": "python",
   "nbconvert_exporter": "python",
   "pygments_lexer": "ipython3",
   "version": "3.13.5"
  }
 },
 "nbformat": 4,
 "nbformat_minor": 5
}
